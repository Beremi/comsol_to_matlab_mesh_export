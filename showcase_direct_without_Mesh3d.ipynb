{
 "cells": [
  {
   "cell_type": "markdown",
   "metadata": {},
   "source": [
    "# Convertor for \".mphtxt\" to hdf5 format for Matlab"
   ]
  },
  {
   "cell_type": "code",
   "execution_count": null,
   "metadata": {},
   "outputs": [],
   "source": [
    "from exporter import extract_comsol_matrices_from_file, select_matrix_section"
   ]
  },
  {
   "cell_type": "markdown",
   "metadata": {},
   "source": [
    "### For P2, all important data are here:"
   ]
  },
  {
   "cell_type": "code",
   "execution_count": null,
   "metadata": {},
   "outputs": [],
   "source": [
    "filename_P2 = \"data/hetero_paper_corrected_p2.mphtxt\"\n",
    "# Example usage:\n",
    "sections_P2 = extract_comsol_matrices_from_file(filename_P2)\n",
    "\n",
    "print(\"-----------------------------------\")\n",
    "coord_dict_P2 = select_matrix_section(sections_P2, \"coordinates\", ncol=3)\n",
    "print(coord_dict_P2[\"description\"])\n",
    "print(coord_dict_P2[\"matrix\"].shape)\n",
    "\n",
    "print(\"-----------------------------------\")\n",
    "elem_dict_P2 = select_matrix_section(sections_P2, \"elements\", ncol=10)\n",
    "print(elem_dict_P2[\"description\"])\n",
    "print(elem_dict_P2[\"matrix\"].shape)\n",
    "\n",
    "print(\"-----------------------------------\")\n",
    "elem_tags_dict_P2 = select_matrix_section(sections_P2, \"indices\", nrow=elem_dict_P2[\"matrix\"].shape[0])\n",
    "print(elem_tags_dict_P2[\"description\"])\n",
    "print(elem_tags_dict_P2[\"matrix\"].shape)\n",
    "\n",
    "print(\"-----------------------------------\")\n",
    "face_dict_P2 = select_matrix_section(sections_P2, \"elements\", ncol=6)\n",
    "print(face_dict_P2[\"description\"])\n",
    "print(face_dict_P2[\"matrix\"].shape)\n",
    "\n",
    "print(\"-----------------------------------\")\n",
    "face_tags_dict_P2 = select_matrix_section(sections_P2, \"indices\", nrow=face_dict_P2[\"matrix\"].shape[0])\n",
    "print(face_tags_dict_P2[\"description\"])\n",
    "print(face_tags_dict_P2[\"matrix\"].shape)"
   ]
  },
  {
   "cell_type": "markdown",
   "metadata": {},
   "source": [
    "### For P1 (just the mesh), all important data are here:"
   ]
  },
  {
   "cell_type": "code",
   "execution_count": null,
   "metadata": {},
   "outputs": [],
   "source": [
    "filename_P1 = \"data/hetero_paper_corrected_p1.mphtxt\"\n",
    "# Example usage:\n",
    "sections_P1 = extract_comsol_matrices_from_file(filename_P1)\n",
    "\n",
    "print(\"-----------------------------------\")\n",
    "coord_dict_P1 = select_matrix_section(sections_P1, \"coordinates\", ncol=3)\n",
    "print(coord_dict_P1[\"description\"])\n",
    "print(coord_dict_P1[\"matrix\"].shape)\n",
    "\n",
    "print(\"-----------------------------------\")\n",
    "elem_dict_P1 = select_matrix_section(sections_P1, \"elements\", ncol=4)\n",
    "print(elem_dict_P1[\"description\"])\n",
    "print(elem_dict_P1[\"matrix\"].shape)\n",
    "\n",
    "print(\"-----------------------------------\")\n",
    "elem_tags_dict_P1 = select_matrix_section(sections_P1, \"indices\", nrow=elem_dict_P1[\"matrix\"].shape[0])\n",
    "print(elem_tags_dict_P1[\"description\"])\n",
    "print(elem_tags_dict_P1[\"matrix\"].shape)\n",
    "\n",
    "print(\"-----------------------------------\")\n",
    "face_dict_P1 = select_matrix_section(sections_P1, \"elements\", ncol=3)\n",
    "print(face_dict_P1[\"description\"])\n",
    "print(face_dict_P1[\"matrix\"].shape)\n",
    "\n",
    "print(\"-----------------------------------\")\n",
    "face_tags_dict_P1 = select_matrix_section(sections_P1, \"indices\", nrow=face_dict_P1[\"matrix\"].shape[0])\n",
    "print(face_tags_dict_P1[\"description\"])\n",
    "print(face_tags_dict_P1[\"matrix\"].shape)"
   ]
  },
  {
   "cell_type": "markdown",
   "metadata": {},
   "source": [
    "### P1 import into Mesh3D object"
   ]
  },
  {
   "cell_type": "markdown",
   "metadata": {},
   "source": [
    "Post processing taken from previous scripts, and **specific for this problem exports**."
   ]
  },
  {
   "cell_type": "code",
   "execution_count": null,
   "metadata": {},
   "outputs": [],
   "source": [
    "import numpy as np\n",
    "\n",
    "# comsol to matlab reordering\n",
    "reorder_elem = np.array([0, 1, 2, 3, 4, 6, 5, 8, 9, 7])\n",
    "reorder_face = np.array([0, 1, 2, 3, 5, 4])\n",
    "\n",
    "# material tags to conform with 4 materials\n",
    "tags = elem_tags_dict_P2[\"matrix\"]\n",
    "material = np.zeros_like(tags)\n",
    "material[tags == 1] = 1\n",
    "material[tags == 2] = 2\n",
    "material[tags == 3] = 1\n",
    "material[tags == 4] = 2\n",
    "material[tags == 5] = 0\n",
    "material[tags == 6] = 0\n",
    "material[tags == 7] = 3\n",
    "material[tags == 8] = 3\n",
    "\n",
    "# boundary tags\n",
    "node_X = coord_dict_P2[\"matrix\"][:, 0]\n",
    "node_Y = coord_dict_P2[\"matrix\"][:, 1]\n",
    "node_Z = coord_dict_P2[\"matrix\"][:, 2]\n",
    "face = face_dict_P2[\"matrix\"]\n",
    "\n",
    "boundary_outer = np.zeros((face_dict_P2[\"matrix\"].shape[0], 1), dtype=np.int32)\n",
    "face_X = np.mean(node_X[face], axis=1)\n",
    "face_Y = np.mean(node_Y[face], axis=1)\n",
    "face_Z = np.mean(node_Z[face], axis=1)\n",
    "x_sum = max(node_X)\n",
    "x_sum_min = min(node_X)\n",
    "y_sum = max(node_Y)\n",
    "y_sum_min = min(node_Y)\n",
    "z_sum = max(node_Z)\n",
    "z_sum_min = min(node_Z)\n",
    "\n",
    "boundary_outer[np.isclose(face_X, x_sum_min, atol=1e-2)] = 1\n",
    "boundary_outer[np.isclose(face_X, x_sum, atol=1e-2)] = 2\n",
    "boundary_outer[np.isclose(face_Y, y_sum_min, atol=1e-2)] = 3\n",
    "boundary_outer[np.isclose(face_Y, y_sum, atol=1e-2)] = 4\n",
    "boundary_outer[np.isclose(face_Z, z_sum_min, atol=1e-2)] = 5\n",
    "boundary_outer[np.isclose(face_Z, z_sum, atol=1e-2)] = 6\n",
    "\n",
    "node = coord_dict_P1[\"matrix\"]\n",
    "face = face_dict_P1[\"matrix\"]\n",
    "node_PN = coord_dict_P2[\"matrix\"]\n",
    "face_PN = face_dict_P2[\"matrix\"]\n",
    "elem_PN = elem_dict_P2[\"matrix\"]\n",
    "\n",
    "# rorder PN faces and elements\n",
    "face_PN = face_PN[:, reorder_face]\n",
    "elem_PN = elem_PN[:, reorder_elem]"
   ]
  },
  {
   "cell_type": "markdown",
   "metadata": {},
   "source": [
    "#### Export to hdf5\n"
   ]
  },
  {
   "cell_type": "code",
   "execution_count": null,
   "metadata": {},
   "outputs": [],
   "source": [
    "import h5py\n",
    "file_name = \"test_michalec_opraveny2.h5\"\n",
    "\n",
    "name_all = ['nodeP1', 'node', 'elem', 'material', 'faceP1', 'face', 'boundary']\n",
    "data_all = [node, node_PN, elem_PN, material, face, face_PN, boundary_outer]\n",
    "\n",
    "with h5py.File(file_name, 'w') as f:\n",
    "    for name, data in zip(name_all, data_all):\n",
    "        f.create_dataset(name=name, data=data, compression='gzip', compression_opts=9)"
   ]
  }
 ],
 "metadata": {
  "kernelspec": {
   "display_name": "Python 3",
   "language": "python",
   "name": "python3"
  },
  "language_info": {
   "codemirror_mode": {
    "name": "ipython",
    "version": 3
   },
   "file_extension": ".py",
   "mimetype": "text/x-python",
   "name": "python",
   "nbconvert_exporter": "python",
   "pygments_lexer": "ipython3",
   "version": "3.13.2"
  }
 },
 "nbformat": 4,
 "nbformat_minor": 2
}
