{
 "cells": [
  {
   "cell_type": "markdown",
   "metadata": {},
   "source": [
    "# Convertor for \".mphtxt\" to hdf5 format for Matlab"
   ]
  },
  {
   "cell_type": "code",
   "execution_count": 52,
   "metadata": {},
   "outputs": [],
   "source": [
    "from exporter import extract_comsol_matrices_from_file, select_matrix_section"
   ]
  },
  {
   "cell_type": "markdown",
   "metadata": {},
   "source": [
    "### For P2, all important data are here:"
   ]
  },
  {
   "cell_type": "code",
   "execution_count": 53,
   "metadata": {},
   "outputs": [
    {
     "name": "stdout",
     "output_type": "stream",
     "text": [
      "-----------------------------------\n",
      "Mesh vertex coordinates\n",
      "(19211, 3)\n",
      "-----------------------------------\n",
      "Type #3\n",
      "4 tet2 # type name\n",
      "10 # number of vertices per element\n",
      "12676 # number of elements\n",
      "Elements\n",
      "(12676, 10)\n",
      "-----------------------------------\n",
      "12676 # number of geometric entity indices\n",
      "Geometric entity indices\n",
      "(12676, 1)\n",
      "-----------------------------------\n",
      "Type #2\n",
      "4 tri2 # type name\n",
      "6 # number of vertices per element\n",
      "4257 # number of elements\n",
      "Elements\n",
      "(4257, 6)\n",
      "-----------------------------------\n",
      "4257 # number of geometric entity indices\n",
      "Geometric entity indices\n",
      "(4257, 1)\n"
     ]
    }
   ],
   "source": [
    "filename = \"data/hetero_paper_corrected_p2.mphtxt\"\n",
    "# Example usage:\n",
    "sections = extract_comsol_matrices_from_file(filename)\n",
    "\n",
    "print(\"-----------------------------------\")\n",
    "coord_dict = select_matrix_section(sections, \"coordinates\", ncol=3)\n",
    "print(coord_dict[\"description\"])\n",
    "print(coord_dict[\"matrix\"].shape)\n",
    "\n",
    "print(\"-----------------------------------\")\n",
    "elem_dict = select_matrix_section(sections, \"elements\", ncol=10)\n",
    "print(elem_dict[\"description\"])\n",
    "print(elem_dict[\"matrix\"].shape)\n",
    "\n",
    "print(\"-----------------------------------\")\n",
    "elem_tags_dict = select_matrix_section(sections, \"indices\", nrow=elem_dict[\"matrix\"].shape[0])\n",
    "print(elem_tags_dict[\"description\"])\n",
    "print(elem_tags_dict[\"matrix\"].shape)\n",
    "\n",
    "print(\"-----------------------------------\")\n",
    "face_dict = select_matrix_section(sections, \"elements\", ncol=6)\n",
    "print(face_dict[\"description\"])\n",
    "print(face_dict[\"matrix\"].shape)\n",
    "\n",
    "print(\"-----------------------------------\")\n",
    "face_tags_dict = select_matrix_section(sections, \"indices\", nrow=face_dict[\"matrix\"].shape[0])\n",
    "print(face_tags_dict[\"description\"])\n",
    "print(face_tags_dict[\"matrix\"].shape)"
   ]
  },
  {
   "cell_type": "markdown",
   "metadata": {},
   "source": [
    "### For P1 (just the mesh), all important data are here:"
   ]
  },
  {
   "cell_type": "code",
   "execution_count": 54,
   "metadata": {},
   "outputs": [
    {
     "name": "stdout",
     "output_type": "stream",
     "text": [
      "-----------------------------------\n",
      "Mesh vertex coordinates\n",
      "(2714, 3)\n",
      "-----------------------------------\n",
      "Type #3\n",
      "3 tet # type name\n",
      "4 # number of vertices per element\n",
      "12676 # number of elements\n",
      "Elements\n",
      "(12676, 4)\n",
      "-----------------------------------\n",
      "12676 # number of geometric entity indices\n",
      "Geometric entity indices\n",
      "(12676, 1)\n",
      "-----------------------------------\n",
      "Type #2\n",
      "3 tri # type name\n",
      "3 # number of vertices per element\n",
      "4257 # number of elements\n",
      "Elements\n",
      "(4257, 3)\n",
      "-----------------------------------\n",
      "4257 # number of geometric entity indices\n",
      "Geometric entity indices\n",
      "(4257, 1)\n"
     ]
    }
   ],
   "source": [
    "filename = \"data/hetero_paper_corrected_p1.mphtxt\"\n",
    "# Example usage:\n",
    "sections = extract_comsol_matrices_from_file(filename)\n",
    "\n",
    "print(\"-----------------------------------\")\n",
    "coord_dict = select_matrix_section(sections, \"coordinates\", ncol=3)\n",
    "print(coord_dict[\"description\"])\n",
    "print(coord_dict[\"matrix\"].shape)\n",
    "\n",
    "print(\"-----------------------------------\")\n",
    "elem_dict = select_matrix_section(sections, \"elements\", ncol=4)\n",
    "print(elem_dict[\"description\"])\n",
    "print(elem_dict[\"matrix\"].shape)\n",
    "\n",
    "print(\"-----------------------------------\")\n",
    "elem_tags_dict = select_matrix_section(sections, \"indices\", nrow=elem_dict[\"matrix\"].shape[0])\n",
    "print(elem_tags_dict[\"description\"])\n",
    "print(elem_tags_dict[\"matrix\"].shape)\n",
    "\n",
    "print(\"-----------------------------------\")\n",
    "face_dict = select_matrix_section(sections, \"elements\", ncol=3)\n",
    "print(face_dict[\"description\"])\n",
    "print(face_dict[\"matrix\"].shape)\n",
    "\n",
    "print(\"-----------------------------------\")\n",
    "face_tags_dict = select_matrix_section(sections, \"indices\", nrow=face_dict[\"matrix\"].shape[0])\n",
    "print(face_tags_dict[\"description\"])\n",
    "print(face_tags_dict[\"matrix\"].shape)"
   ]
  },
  {
   "cell_type": "markdown",
   "metadata": {},
   "source": [
    "### P1 import into Mesh3D object"
   ]
  },
  {
   "cell_type": "code",
   "execution_count": 55,
   "metadata": {},
   "outputs": [],
   "source": [
    "from mesh_tools import Mesh3d\n",
    "import numpy as np\n",
    "\n",
    "node_X = coord_dict[\"matrix\"][:, 0]\n",
    "node_Y = coord_dict[\"matrix\"][:, 1]\n",
    "node_Z = coord_dict[\"matrix\"][:, 2]\n",
    "elem = elem_dict[\"matrix\"]\n",
    "face = face_dict[\"matrix\"]"
   ]
  },
  {
   "cell_type": "markdown",
   "metadata": {},
   "source": [
    "Post processing taken from previous scripts, and **specific for this problem exports**."
   ]
  },
  {
   "cell_type": "code",
   "execution_count": 56,
   "metadata": {},
   "outputs": [],
   "source": [
    "mesh = Mesh3d(node_X, node_Y, node_Z, elem, face)\n",
    "mesh.P1_to_PN(N=2)\n",
    "node_X = mesh.node_X.reshape(-1, 1)\n",
    "node_Y = mesh.node_Y.reshape(-1, 1)\n",
    "node_Z = mesh.node_Z.reshape(-1, 1)\n",
    "\n",
    "# P2 nodes and elements\n",
    "node_PN = np.concatenate([node_X, node_Y, node_Z], axis=1)\n",
    "elem_PN = np.concatenate([mesh.elem_PN[:, :7],\n",
    "                          mesh.elem_PN[:, 8:],\n",
    "                          mesh.elem_PN[:, 7].reshape(-1, 1)], axis=1)\n",
    "\n",
    "# material tags to conform with 4 materials\n",
    "tags = elem_tags_dict[\"matrix\"]\n",
    "material = np.zeros_like(tags)\n",
    "material[tags == 1] = 1\n",
    "material[tags == 2] = 2\n",
    "material[tags == 3] = 1\n",
    "material[tags == 4] = 2\n",
    "material[tags == 5] = 0\n",
    "material[tags == 6] = 0\n",
    "material[tags == 7] = 3\n",
    "material[tags == 8] = 3\n",
    "\n",
    "boundary_outer = np.zeros((face.shape[0], 1), dtype=np.int32)\n",
    "face_X = np.mean(node_X[face], axis=1)\n",
    "face_Y = np.mean(node_Y[face], axis=1)\n",
    "face_Z = np.mean(node_Z[face], axis=1)\n",
    "x_sum = max(node_X)\n",
    "x_sum_min = min(node_X)\n",
    "y_sum = max(node_Y)\n",
    "y_sum_min = min(node_Y)\n",
    "z_sum = max(node_Z)\n",
    "z_sum_min = min(node_Z)\n",
    "\n",
    "boundary_outer[np.isclose(face_X, x_sum_min, atol=1e-2)] = 1\n",
    "boundary_outer[np.isclose(face_X, x_sum, atol=1e-2)] = 2\n",
    "boundary_outer[np.isclose(face_Y, y_sum_min, atol=1e-2)] = 3\n",
    "boundary_outer[np.isclose(face_Y, y_sum, atol=1e-2)] = 4\n",
    "boundary_outer[np.isclose(face_Z, z_sum_min, atol=1e-2)] = 5\n",
    "boundary_outer[np.isclose(face_Z, z_sum, atol=1e-2)] = 6\n",
    "\n",
    "node = coord_dict[\"matrix\"]\n",
    "face_PN = mesh.face_PN"
   ]
  },
  {
   "cell_type": "markdown",
   "metadata": {},
   "source": [
    "#### Export to hdf5\n"
   ]
  },
  {
   "cell_type": "code",
   "execution_count": 57,
   "metadata": {},
   "outputs": [],
   "source": [
    "import h5py\n",
    "file_name = \"test_michalec_opraveny.h5\"\n",
    "\n",
    "name_all = ['nodeP1', 'node', 'elem', 'material', 'faceP1', 'face', 'boundary']\n",
    "data_all = [node, node_PN, elem_PN, material, face, mesh.face_PN, boundary_outer]\n",
    "\n",
    "with h5py.File(file_name, 'w') as f:\n",
    "    for name, data in zip(name_all, data_all):\n",
    "        f.create_dataset(name=name, data=data, compression='gzip', compression_opts=9)"
   ]
  }
 ],
 "metadata": {
  "kernelspec": {
   "display_name": "Python 3",
   "language": "python",
   "name": "python3"
  },
  "language_info": {
   "codemirror_mode": {
    "name": "ipython",
    "version": 3
   },
   "file_extension": ".py",
   "mimetype": "text/x-python",
   "name": "python",
   "nbconvert_exporter": "python",
   "pygments_lexer": "ipython3",
   "version": "3.13.2"
  }
 },
 "nbformat": 4,
 "nbformat_minor": 2
}
